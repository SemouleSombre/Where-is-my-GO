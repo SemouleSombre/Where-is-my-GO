{
 "cells": [
  {
   "cell_type": "code",
   "execution_count": null,
   "metadata": {},
   "outputs": [],
   "source": [
    "import os\n",
    "import win32api\n",
    "import copy"
   ]
  },
  {
   "cell_type": "code",
   "execution_count": null,
   "metadata": {},
   "outputs": [],
   "source": [
    "loop = True\n",
    "files = []\n",
    "\n"
   ]
  },
  {
   "cell_type": "code",
   "execution_count": null,
   "metadata": {},
   "outputs": [],
   "source": [
    "\n",
    "\n",
    "drives = win32api.GetLogicalDriveStrings()\n",
    "drives = drives.split('\\000')[:-1]\n",
    "print(drives)"
   ]
  },
  {
   "cell_type": "code",
   "execution_count": null,
   "metadata": {},
   "outputs": [],
   "source": []
  },
  {
   "cell_type": "code",
   "execution_count": null,
   "metadata": {},
   "outputs": [],
   "source": [
    "for drive in drives:\n",
    "    print(drive)"
   ]
  },
  {
   "cell_type": "code",
   "execution_count": null,
   "metadata": {},
   "outputs": [],
   "source": [
    "os.walk(drive)"
   ]
  },
  {
   "cell_type": "code",
   "execution_count": null,
   "metadata": {},
   "outputs": [],
   "source": [
    "def get_dir_size(path='.'):\n",
    "    total = 0\n",
    "    with os.scandir(path) as it:\n",
    "        for entry in it:\n",
    "            if entry.is_file():\n",
    "                total += entry.stat().st_size\n",
    "            elif entry.is_dir():\n",
    "                total += get_dir_size(entry.path)\n",
    "    return total"
   ]
  },
  {
   "cell_type": "code",
   "execution_count": null,
   "metadata": {},
   "outputs": [],
   "source": [
    "WALKS = {\n",
    "    'Name':\"\",\n",
    "    'Path':\"\",\n",
    "    'Size':None,\n",
    "    'Step':0,\n",
    "    'Content' : []\n",
    "}"
   ]
  },
  {
   "cell_type": "code",
   "execution_count": null,
   "metadata": {},
   "outputs": [],
   "source": [
    "def defineSize(list_of_elements):\n",
    "    size = 0\n",
    "    for element in list_of_elements:\n",
    "        size += element['Size']\n",
    "    return size\n",
    "\n",
    "def walking(path, step=0):\n",
    "    head = copy.deepcopy(WALKS)\n",
    "    metadata = []\n",
    "    head['Name'] = path\n",
    "    head['Path'] = path\n",
    "    head['Step'] = step\n",
    "    head['Content'] = []\n",
    "    try:\n",
    "        files = os.listdir(path)\n",
    "    except PermissionError as e:\n",
    "        print(f\"Unable to search here : {path} : {e}\")\n",
    "        head['Size'] = 0\n",
    "        return head\n",
    "    \n",
    "    \n",
    "    for index, element in enumerate(files):\n",
    "        metadata.append(copy.deepcopy(WALKS))\n",
    "        itexist = os.path.exists(f\"{path}/{element}\")\n",
    "        if not itexist:\n",
    "                metadata[index]['Name'] = element\n",
    "                metadata[index]['Path'] = f\"{path}/{element}\"\n",
    "                metadata[index]['Size'] = 0\n",
    "                metadata[index]['Step'] = step+1\n",
    "        else:\n",
    "            isFile = os.path.isfile(f\"{path}/{element}\")\n",
    "            if isFile:\n",
    "                # print(f\"{element} is a file\")\n",
    "                metadata[index]['Name'] = element\n",
    "                metadata[index]['Path'] = f\"{path}/{element}\"\n",
    "                metadata[index]['Size'] = os.path.getsize(f\"{path}/{element}\")\n",
    "                metadata[index]['Step'] = step+1\n",
    "            else:\n",
    "                # print(walking(f\"{path}/{element}\", step+1))\n",
    "                metadata[index] = walking(f\"{path}/{element}\", step+1)\n",
    "    head['Content'] = metadata\n",
    "    # print(head)\n",
    "    head['Size'] = defineSize(metadata)\n",
    "    # print(head)\n",
    "    return head"
   ]
  },
  {
   "cell_type": "code",
   "execution_count": null,
   "metadata": {},
   "outputs": [],
   "source": [
    "path = \"c:/Users/AntoineCOLLETTE/Downloads\"\n",
    "metadata = walking(path)\n",
    "print(metadata)"
   ]
  },
  {
   "cell_type": "code",
   "execution_count": null,
   "metadata": {},
   "outputs": [],
   "source": [
    "PC = []\n",
    "\n",
    "drives = win32api.GetLogicalDriveStrings()\n",
    "drives = drives.split('\\000')[:-1]\n",
    "print(drives)\n",
    "for drive in drives:\n",
    "    PC.append(walking(drive))\n",
    "PC"
   ]
  },
  {
   "cell_type": "code",
   "execution_count": null,
   "metadata": {},
   "outputs": [],
   "source": []
  },
  {
   "cell_type": "code",
   "execution_count": null,
   "metadata": {},
   "outputs": [],
   "source": [
    "path = \"c:/Users/AntoineCOLLETTE/AppData/Local/Temp/MozillaMailnews/\"\n",
    "file = os.listdir(path)"
   ]
  },
  {
   "cell_type": "code",
   "execution_count": null,
   "metadata": {},
   "outputs": [],
   "source": [
    "for f in file:\n",
    "    isFile = os.path.isfile(f\"{path}/{f}\")\n",
    "    isDir = os.path.isdir(f\"{path}/{f}\")\n",
    "    itexist = os.path.exists(f\"{path}/{f}\")\n",
    "    print(f\"{path}/{f} //  Is file : {isFile} // Is Dir : {isDir}, {itexist}\")"
   ]
  },
  {
   "cell_type": "code",
   "execution_count": null,
   "metadata": {},
   "outputs": [],
   "source": [
    "os.path.abspath()"
   ]
  }
 ],
 "metadata": {
  "kernelspec": {
   "display_name": "Python 3",
   "language": "python",
   "name": "python3"
  },
  "language_info": {
   "codemirror_mode": {
    "name": "ipython",
    "version": 3
   },
   "file_extension": ".py",
   "mimetype": "text/x-python",
   "name": "python",
   "nbconvert_exporter": "python",
   "pygments_lexer": "ipython3",
   "version": "3.9.9"
  }
 },
 "nbformat": 4,
 "nbformat_minor": 2
}
